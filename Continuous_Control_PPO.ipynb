{
 "cells": [
  {
   "cell_type": "markdown",
   "metadata": {},
   "source": [
    "# Continuous Control\n",
    "\n",
    "---\n",
    "\n",
    "In this notebook, you will learn how to use the Unity ML-Agents environment for the second project of the [Deep Reinforcement Learning Nanodegree](https://www.udacity.com/course/deep-reinforcement-learning-nanodegree--nd893) program.\n",
    "\n",
    "### 1. Start the Environment\n",
    "\n",
    "We begin by importing the necessary packages.  If the code cell below returns an error, please revisit the project instructions to double-check that you have installed [Unity ML-Agents](https://github.com/Unity-Technologies/ml-agents/blob/master/docs/Installation.md) and [NumPy](http://www.numpy.org/)."
   ]
  },
  {
   "cell_type": "code",
   "execution_count": 1,
   "metadata": {},
   "outputs": [],
   "source": [
    "from unityagents import UnityEnvironment\n",
    "import numpy as np"
   ]
  },
  {
   "cell_type": "markdown",
   "metadata": {},
   "source": [
    "Next, we will start the environment!  **_Before running the code cell below_**, change the `file_name` parameter to match the location of the Unity environment that you downloaded.\n",
    "\n",
    "- **Mac**: `\"path/to/Reacher.app\"`\n",
    "- **Windows** (x86): `\"path/to/Reacher_Windows_x86/Reacher.exe\"`\n",
    "- **Windows** (x86_64): `\"path/to/Reacher_Windows_x86_64/Reacher.exe\"`\n",
    "- **Linux** (x86): `\"path/to/Reacher_Linux/Reacher.x86\"`\n",
    "- **Linux** (x86_64): `\"path/to/Reacher_Linux/Reacher.x86_64\"`\n",
    "- **Linux** (x86, headless): `\"path/to/Reacher_Linux_NoVis/Reacher.x86\"`\n",
    "- **Linux** (x86_64, headless): `\"path/to/Reacher_Linux_NoVis/Reacher.x86_64\"`\n",
    "\n",
    "For instance, if you are using a Mac, then you downloaded `Reacher.app`.  If this file is in the same folder as the notebook, then the line below should appear as follows:\n",
    "```\n",
    "env = UnityEnvironment(file_name=\"Reacher.app\")\n",
    "```"
   ]
  },
  {
   "cell_type": "code",
   "execution_count": 2,
   "metadata": {},
   "outputs": [
    {
     "name": "stderr",
     "output_type": "stream",
     "text": [
      "INFO:unityagents:\n",
      "'Academy' started successfully!\n",
      "Unity Academy name: Academy\n",
      "        Number of Brains: 1\n",
      "        Number of External Brains : 1\n",
      "        Lesson number : 0\n",
      "        Reset Parameters :\n",
      "\t\tgoal_size -> 5.0\n",
      "\t\tgoal_speed -> 1.0\n",
      "Unity brain name: ReacherBrain\n",
      "        Number of Visual Observations (per agent): 0\n",
      "        Vector Observation space type: continuous\n",
      "        Vector Observation space size (per agent): 33\n",
      "        Number of stacked Vector Observation: 1\n",
      "        Vector Action space type: continuous\n",
      "        Vector Action space size (per agent): 4\n",
      "        Vector Action descriptions: , , , \n"
     ]
    }
   ],
   "source": [
    "# it will prevent the UI rendering, which speeds things up considerably.\n",
    "\n",
    "env = UnityEnvironment(file_name=\"Reacher_Multi.app\") \n"
   ]
  },
  {
   "cell_type": "markdown",
   "metadata": {},
   "source": [
    "Environments contain **_brains_** which are responsible for deciding the actions of their associated agents. Here we check for the first brain available, and set it as the default brain we will be controlling from Python."
   ]
  },
  {
   "cell_type": "code",
   "execution_count": 3,
   "metadata": {},
   "outputs": [],
   "source": [
    "# get the default brain\n",
    "brain_name = env.brain_names[0]\n",
    "brain = env.brains[brain_name]"
   ]
  },
  {
   "cell_type": "markdown",
   "metadata": {},
   "source": [
    "### 2. Examine the State and Action Spaces\n",
    "\n",
    "In this environment, a double-jointed arm can move to target locations. A reward of `+0.1` is provided for each step that the agent's hand is in the goal location. Thus, the goal of your agent is to maintain its position at the target location for as many time steps as possible.\n",
    "\n",
    "The observation space consists of `33` variables corresponding to position, rotation, velocity, and angular velocities of the arm.  Each action is a vector with four numbers, corresponding to torque applicable to two joints.  Every entry in the action vector must be a number between `-1` and `1`.\n",
    "\n",
    "Run the code cell below to print some information about the environment."
   ]
  },
  {
   "cell_type": "code",
   "execution_count": 4,
   "metadata": {},
   "outputs": [
    {
     "name": "stdout",
     "output_type": "stream",
     "text": [
      "Number of agents: 20\n",
      "Size of each action: 4\n",
      "There are 20 agents. Each observes a state with length: 33\n",
      "The state for the first agent looks like: [ 0.00000000e+00 -4.00000000e+00  0.00000000e+00  1.00000000e+00\n",
      " -0.00000000e+00 -0.00000000e+00 -4.37113883e-08  0.00000000e+00\n",
      "  0.00000000e+00  0.00000000e+00  0.00000000e+00  0.00000000e+00\n",
      "  0.00000000e+00  0.00000000e+00 -1.00000000e+01  0.00000000e+00\n",
      "  1.00000000e+00 -0.00000000e+00 -0.00000000e+00 -4.37113883e-08\n",
      "  0.00000000e+00  0.00000000e+00  0.00000000e+00  0.00000000e+00\n",
      "  0.00000000e+00  0.00000000e+00  5.75471878e+00 -1.00000000e+00\n",
      "  5.55726624e+00  0.00000000e+00  1.00000000e+00  0.00000000e+00\n",
      " -1.68164849e-01]\n"
     ]
    }
   ],
   "source": [
    "# reset the environment\n",
    "env_info = env.reset(train_mode=True)[brain_name]\n",
    "\n",
    "# number of agents\n",
    "num_agents = len(env_info.agents)\n",
    "print('Number of agents:', num_agents)\n",
    "\n",
    "# size of each action\n",
    "action_size = brain.vector_action_space_size\n",
    "print('Size of each action:', action_size)\n",
    "\n",
    "# examine the state space \n",
    "states = env_info.vector_observations\n",
    "state_size = states.shape[1]\n",
    "print('There are {} agents. Each observes a state with length: {}'.format(states.shape[0], state_size))\n",
    "print('The state for the first agent looks like:', states[0])"
   ]
  },
  {
   "cell_type": "markdown",
   "metadata": {},
   "source": [
    "### 3. Take Random Actions in the Environment\n",
    "\n",
    "In the next code cell, you will learn how to use the Python API to control the agent and receive feedback from the environment.\n",
    "\n",
    "Once this cell is executed, you will watch the agent's performance, if it selects an action at random with each time step.  A window should pop up that allows you to observe the agent, as it moves through the environment.  \n",
    "\n",
    "Of course, as part of the project, you'll have to change the code so that the agent is able to use its experience to gradually choose better actions when interacting with the environment!"
   ]
  },
  {
   "cell_type": "code",
   "execution_count": 5,
   "metadata": {},
   "outputs": [],
   "source": [
    "import os\n",
    "data_prefix = './data/ppo-2019-03-27-'\n",
    "s_currentpath = os.getcwd()"
   ]
  },
  {
   "cell_type": "code",
   "execution_count": 6,
   "metadata": {},
   "outputs": [
    {
     "name": "stdout",
     "output_type": "stream",
     "text": [
      "\n",
      "Neural Network Model ARCHITECURES:\n",
      "Actor(\n",
      "  (fc1): Linear(in_features=33, out_features=400, bias=True)\n",
      "  (fc2): Linear(in_features=400, out_features=300, bias=True)\n",
      "  (fc3): Linear(in_features=300, out_features=4, bias=True)\n",
      ")\n",
      "Critic(\n",
      "  (fcs1): Linear(in_features=33, out_features=400, bias=True)\n",
      "  (fc2): Linear(in_features=400, out_features=300, bias=True)\n",
      "  (fc3): Linear(in_features=300, out_features=1, bias=True)\n",
      ")\n"
     ]
    }
   ],
   "source": [
    "# DDPG:\n",
    "#   BATCH_SIZE: 200\n",
    "#   BUFFER_SIZE: 100000\n",
    "#   GAMMA: 0.99\n",
    "#   LR_ACTOR: 0.0001\n",
    "#   LR_CRITIC: 0.001\n",
    "#   TAU: 0.001\n",
    "#   UPDATE_EVERY: 2\n",
    "#   WEIGHT_DECAY: 0.0001\n",
    "\n",
    "from ppo.agent import Agent as PPO\n",
    "rand_seed = 0\n",
    "# agent = DDPG(state_size, action_size, num_agents, rand_seed)\n",
    "agent = PPO(state_size, action_size, num_agents, rand_seed)\n",
    "SOLVED = False\n",
    "\n",
    "print('\\nNeural Network Model ARCHITECURES:')\n",
    "\n",
    "print(agent.policy.actor_body)\n",
    "print(agent.policy.critic_body)\n"
   ]
  },
  {
   "cell_type": "code",
   "execution_count": 7,
   "metadata": {},
   "outputs": [
    {
     "name": "stdout",
     "output_type": "stream",
     "text": [
      "\n",
      "TRAINING:\n",
      "Episode 0\tAverage Score: 0.13\tσ: 0.00\tScore: 0.13\n",
      "Episode 10\tAverage Score: 1.02\tσ: 0.61\tScore: 1.60\n",
      "Episode 20\tAverage Score: 1.50\tσ: 0.71\tScore: 2.56\n",
      "Episode 30\tAverage Score: 1.80\tσ: 0.75\tScore: 2.69\n",
      "Episode 40\tAverage Score: 2.09\tσ: 0.86\tScore: 2.51\n",
      "Episode 50\tAverage Score: 2.37\tσ: 0.97\tScore: 3.19\n",
      "Episode 60\tAverage Score: 2.57\tσ: 1.04\tScore: 4.52\n",
      "Episode 70\tAverage Score: 2.88\tσ: 1.25\tScore: 3.78\n",
      "Episode 80\tAverage Score: 3.03\tσ: 1.25\tScore: 4.33\n",
      "Episode 90\tAverage Score: 3.20\tσ: 1.30\tScore: 3.35\n",
      "Episode 100\tAverage Score: 3.38\tσ: 1.30\tScore: 5.58\n",
      "Episode 110\tAverage Score: 3.78\tσ: 1.14\tScore: 5.88\n",
      "Episode 120\tAverage Score: 4.17\tσ: 1.15\tScore: 5.32\n",
      "Episode 130\tAverage Score: 4.58\tσ: 1.20\tScore: 6.75\n",
      "Episode 140\tAverage Score: 5.04\tσ: 1.39\tScore: 7.29\n",
      "Episode 150\tAverage Score: 5.48\tσ: 1.54\tScore: 6.99\n",
      "Episode 160\tAverage Score: 5.93\tσ: 1.57\tScore: 8.62\n",
      "Episode 170\tAverage Score: 6.24\tσ: 1.60\tScore: 7.88\n",
      "Episode 180\tAverage Score: 6.63\tσ: 1.51\tScore: 8.36\n",
      "Episode 190\tAverage Score: 7.03\tσ: 1.46\tScore: 8.137\n",
      "Episode 200\tAverage Score: 7.44\tσ: 1.35\tScore: 9.99\n",
      "Episode 210\tAverage Score: 7.86\tσ: 1.21\tScore: 8.530\n",
      "Episode 220\tAverage Score: 8.15\tσ: 1.02\tScore: 7.80\n",
      "Episode 230\tAverage Score: 8.32\tσ: 0.92\tScore: 7.49\n",
      "Episode 240\tAverage Score: 8.44\tσ: 0.90\tScore: 9.919\n",
      "Episode 250\tAverage Score: 8.57\tσ: 0.94\tScore: 8.574\n",
      "Episode 260\tAverage Score: 8.68\tσ: 0.94\tScore: 8.777\n",
      "Episode 270\tAverage Score: 8.95\tσ: 1.04\tScore: 11.60\n",
      "Episode 280\tAverage Score: 9.23\tσ: 1.15\tScore: 11.28\n",
      "Episode 290\tAverage Score: 9.42\tσ: 1.16\tScore: 10.04\n",
      "Episode 300\tAverage Score: 9.54\tσ: 1.15\tScore: 10.33\n",
      "Episode 310\tAverage Score: 9.55\tσ: 1.16\tScore: 8.824\n",
      "Episode 320\tAverage Score: 9.50\tσ: 1.19\tScore: 7.78\n",
      "Episode 330\tAverage Score: 9.52\tσ: 1.15\tScore: 9.08\n",
      "Episode 340\tAverage Score: 9.63\tσ: 1.15\tScore: 10.89\n",
      "Episode 350\tAverage Score: 9.65\tσ: 1.12\tScore: 10.38\n",
      "Episode 360\tAverage Score: 9.72\tσ: 1.10\tScore: 10.62\n",
      "Episode 370\tAverage Score: 9.77\tσ: 1.16\tScore: 10.87\n",
      "Episode 380\tAverage Score: 9.71\tσ: 1.10\tScore: 9.586\n",
      "Episode 390\tAverage Score: 9.78\tσ: 1.16\tScore: 11.45\n",
      "Episode 400\tAverage Score: 10.00\tσ: 1.39\tScore: 12.67\n",
      "Episode 410\tAverage Score: 10.20\tσ: 1.45\tScore: 9.950\n",
      "Episode 420\tAverage Score: 10.47\tσ: 1.34\tScore: 12.04\n",
      "Episode 430\tAverage Score: 10.75\tσ: 1.14\tScore: 11.97\n",
      "Episode 440\tAverage Score: 11.01\tσ: 1.21\tScore: 11.95\n",
      "Episode 450\tAverage Score: 11.23\tσ: 1.10\tScore: 11.74\n",
      "Episode 460\tAverage Score: 11.53\tσ: 1.09\tScore: 13.41\n",
      "Episode 470\tAverage Score: 11.54\tσ: 1.15\tScore: 10.70\n",
      "Episode 480\tAverage Score: 11.70\tσ: 1.06\tScore: 12.93\n",
      "Episode 490\tAverage Score: 11.73\tσ: 1.07\tScore: 10.38\n",
      "Episode 500\tAverage Score: 11.73\tσ: 1.08\tScore: 11.87\n",
      "Episode 510\tAverage Score: 11.88\tσ: 1.14\tScore: 12.11\n",
      "Episode 520\tAverage Score: 11.92\tσ: 1.13\tScore: 9.722\n",
      "Episode 530\tAverage Score: 11.93\tσ: 1.19\tScore: 12.54\n",
      "Episode 540\tAverage Score: 11.84\tσ: 1.20\tScore: 14.11\n",
      "Episode 550\tAverage Score: 11.94\tσ: 1.24\tScore: 13.23\n",
      "Episode 560\tAverage Score: 11.90\tσ: 1.24\tScore: 12.20\n",
      "Episode 570\tAverage Score: 12.17\tσ: 1.29\tScore: 14.93\n",
      "Episode 580\tAverage Score: 12.32\tσ: 1.30\tScore: 13.35\n",
      "Episode 590\tAverage Score: 12.46\tσ: 1.30\tScore: 11.67\n",
      "Episode 600\tAverage Score: 12.56\tσ: 1.35\tScore: 9.933\n",
      "Episode 610\tAverage Score: 12.62\tσ: 1.42\tScore: 14.36\n",
      "Episode 620\tAverage Score: 12.87\tσ: 1.45\tScore: 15.30\n",
      "Episode 630\tAverage Score: 13.21\tσ: 1.39\tScore: 14.12\n",
      "Episode 640\tAverage Score: 13.53\tσ: 1.37\tScore: 15.38\n",
      "Episode 650\tAverage Score: 13.91\tσ: 1.56\tScore: 15.64\n",
      "Episode 660\tAverage Score: 14.11\tσ: 1.58\tScore: 13.28\n",
      "Episode 670\tAverage Score: 14.13\tσ: 1.62\tScore: 13.98\n",
      "Episode 680\tAverage Score: 14.37\tσ: 1.69\tScore: 14.78\n",
      "Episode 690\tAverage Score: 14.42\tσ: 1.71\tScore: 13.87\n",
      "Episode 700\tAverage Score: 14.56\tσ: 1.67\tScore: 16.60\n",
      "Episode 710\tAverage Score: 14.79\tσ: 1.59\tScore: 16.12\n",
      "Episode 720\tAverage Score: 14.86\tσ: 1.73\tScore: 10.01\n",
      "Episode 730\tAverage Score: 14.62\tσ: 2.10\tScore: 14.69\n",
      "Episode 740\tAverage Score: 14.81\tσ: 2.22\tScore: 19.51\n",
      "Episode 750\tAverage Score: 14.95\tσ: 2.59\tScore: 13.94\n",
      "Episode 760\tAverage Score: 15.58\tσ: 3.09\tScore: 17.82\n",
      "Episode 770\tAverage Score: 16.48\tσ: 3.72\tScore: 23.70\n",
      "Episode 780\tAverage Score: 17.31\tσ: 4.37\tScore: 24.72\n",
      "Episode 790\tAverage Score: 18.44\tσ: 4.84\tScore: 20.71\n",
      "Episode 800\tAverage Score: 19.80\tσ: 5.47\tScore: 33.23\n",
      "Episode 810\tAverage Score: 21.15\tσ: 5.96\tScore: 30.13\n",
      "Episode 820\tAverage Score: 22.21\tσ: 6.14\tScore: 31.94\n",
      "Episode 830\tAverage Score: 24.10\tσ: 5.65\tScore: 24.65\n",
      "Episode 840\tAverage Score: 25.32\tσ: 5.30\tScore: 32.24\n",
      "Episode 850\tAverage Score: 26.70\tσ: 4.87\tScore: 32.20\n",
      "Episode 860\tAverage Score: 27.74\tσ: 4.70\tScore: 32.83\n",
      "Episode 870\tAverage Score: 28.54\tσ: 4.54\tScore: 33.51\n",
      "Episode 880\tAverage Score: 29.50\tσ: 4.43\tScore: 33.84\n",
      "Episode 889\tAverage Score: 30.01\tσ: 4.11\tScore: 32.11\n",
      "\n",
      "Environment solved in 889 episodes!\tAverage Score: 30.01\tσ: 4.11\n",
      "\n",
      "\n"
     ]
    }
   ],
   "source": [
    "from collections import deque\n",
    "import pickle\n",
    "import torch\n",
    "from ppo.trajectory import Trajectory\n",
    "name = 'PPO'\n",
    "episodes = 1500\n",
    "rand_seed = 0\n",
    "\n",
    "scores = []\n",
    "scores_std = []\n",
    "scores_avg = []\n",
    "scores_window = deque(maxlen=100)  # last 100 scores\n",
    "    \n",
    "is_solved = False\n",
    "\n",
    "print('\\nTRAINING:')\n",
    "# na = np.array([x.data for x in PPO_PARAMS]).flatten()\n",
    "# d_params = dict([(na[y].strip(), float(na[y+1]))for y in range(0, len(na), 2)])\n",
    "eps = episodes\n",
    "beta = 0.01 # d_params['BETA']\n",
    "for episode in range(episodes):\n",
    "    \n",
    "    env_info = env.reset(train_mode=True)[brain_name]\n",
    "    states = env_info.vector_observations    \n",
    "\n",
    "    trject = Trajectory()\n",
    "    for i in range(1000):\n",
    "        actions, log_probs, values = agent.act(states)\n",
    "        \n",
    "        env_info = env.step(actions)[brain_name]\n",
    "        next_states = env_info.vector_observations\n",
    "        rewards = env_info.rewards\n",
    "        dones = env_info.local_done\n",
    "        \n",
    "        trject.add(states, rewards, log_probs, actions, values, dones)\n",
    "        states = next_states\n",
    "        if np.any(dones):\n",
    "            break\n",
    "\n",
    "    agent.step(trject, eps, beta)\n",
    "    eps *= 0.999\n",
    "    beta *= 0.995\n",
    "    \n",
    "    \n",
    "    scores.append(trject.score)\n",
    "    scores_window.append(trject.score)\n",
    "    scores_avg.append(np.mean(scores_window))\n",
    "    scores_std.append(np.std(scores_window))\n",
    "    s_msg = '\\rEpisode {}\\tAverage Score: {:.2f}\\tσ: {:.2f}\\tScore: {:.2f}'\n",
    "    print(s_msg.format(episode, np.mean(scores_window),\n",
    "                       np.std(scores_window), trject.score), end=\"\")\n",
    "    if episode % 10 == 0:\n",
    "        print(s_msg.format(episode, np.mean(scores_window),\n",
    "                           np.std(scores_window), trject.score))\n",
    "    if np.mean(scores_window) >= 30.:\n",
    "        is_solved = True\n",
    "        s_msg = '\\n\\nEnvironment solved in {:d} episodes!\\tAverage '\n",
    "        s_msg += 'Score: {:.2f}\\tσ: {:.2f}'\n",
    "        print(s_msg.format(episode, np.mean(scores_window),\n",
    "                           np.std(scores_window)))\n",
    "        # save the models\n",
    "        s_aux = '%scheckpoint-%s.%s.pth'\n",
    "        s_policy_path = s_aux % (data_prefix, name, 'policy')\n",
    "        torch.save(agent.policy.state_dict(), s_policy_path)\n",
    "        break\n",
    "    \n",
    "# save data to use later\n",
    "if not is_solved:\n",
    "    s_msg = '\\n\\nEnvironment not solved =/'\n",
    "    print(s_msg.format(episode, np.mean(scores_window),\n",
    "          np.std(scores_window)))\n",
    "print('\\n')\n",
    "d_data = {'episodes': episode,\n",
    "          'scores': scores,\n",
    "          'scores_std': scores_std,\n",
    "          'scores_avg': scores_avg,\n",
    "          'scores_window': scores_window}\n",
    "pickle.dump(d_data, open('%ssim-data-%s.data' % (data_prefix, name), 'wb'))"
   ]
  },
  {
   "cell_type": "code",
   "execution_count": 9,
   "metadata": {},
   "outputs": [],
   "source": [
    "pickle.dump(d_data, open('%ssim-data-%s.data' % (data_prefix, name), 'wb'))"
   ]
  },
  {
   "cell_type": "code",
   "execution_count": 9,
   "metadata": {},
   "outputs": [
    {
     "name": "stdout",
     "output_type": "stream",
     "text": [
      "Environment solved in 889 episodes!\tAverage Score: 30.01 +- 4.11\n"
     ]
    }
   ],
   "source": [
    "import pickle\n",
    "\n",
    "d_data = pickle.load(open('%ssim-data-%s.data' % (data_prefix, name), 'rb'))\n",
    "s_msg = 'Environment solved in {:d} episodes!\\tAverage Score: {:.2f} +- {:.2f}'\n",
    "print(s_msg.format(d_data['episodes'], np.mean(d_data['scores_window']), np.std(d_data['scores_window'])))"
   ]
  },
  {
   "cell_type": "code",
   "execution_count": 12,
   "metadata": {},
   "outputs": [
    {
     "data": {
      "image/png": "[encoded data removed]",
      "text/plain": [
       "<Figure size 864x360 with 2 Axes>"
      ]
     },
     "metadata": {
      "needs_background": "light"
     },
     "output_type": "display_data"
    }
   ],
   "source": [
    "import matplotlib.pyplot as plt\n",
    "import seaborn as sns\n",
    "import numpy as np\n",
    "\n",
    "%matplotlib inline\n",
    "\n",
    "#recover data\n",
    "na_raw = np.array(d_data['scores'])\n",
    "na_mu = np.array(d_data['scores_avg'])\n",
    "na_sigma = np.array(d_data['scores_std'])\n",
    "\n",
    "# plot the scores\n",
    "f, (ax1, ax2) = plt.subplots(1, 2, figsize=(12, 5), sharex=True, sharey=True)\n",
    "\n",
    "# plot the sores by episode\n",
    "ax1.plot(np.arange(len(na_raw)), na_raw)\n",
    "ax1.set_xlim(0, len(na_raw)+1)\n",
    "ax1.set_ylabel('Score')\n",
    "ax1.set_xlabel('Episode #')\n",
    "ax1.set_title('raw scores')\n",
    "\n",
    "# plot the average of these scores\n",
    "ax2.axhline(y=30., xmin=0.0, xmax=1.0, color='r', linestyle='--', linewidth=0.7, alpha=0.9)\n",
    "ax2.plot(np.arange(len(na_mu)), na_mu)\n",
    "ax2.fill_between(np.arange(len(na_mu)), na_mu+na_sigma, na_mu-na_sigma, facecolor='gray', alpha=0.1)\n",
    "ax2.set_ylabel('Average Score')\n",
    "ax2.set_xlabel('Episode #')\n",
    "ax2.set_title('learning curve')\n",
    "\n",
    "f.tight_layout()\n",
    "f.savefig(data_prefix + '%s-learning-curve.jpg' % name, format='jpg')"
   ]
  },
  {
   "cell_type": "code",
   "execution_count": null,
   "metadata": {},
   "outputs": [],
   "source": []
  },
  {
   "cell_type": "markdown",
   "metadata": {},
   "source": [
    "When finished, you can close the environment."
   ]
  },
  {
   "cell_type": "code",
   "execution_count": null,
   "metadata": {},
   "outputs": [],
   "source": [
    "env.close()"
   ]
  },
  {
   "cell_type": "markdown",
   "metadata": {},
   "source": [
    "### 4. It's Your Turn!\n",
    "\n",
    "Now it's your turn to train your own agent to solve the environment!  When training the environment, set `train_mode=True`, so that the line for resetting the environment looks like the following:\n",
    "```python\n",
    "env_info = env.reset(train_mode=True)[brain_name]\n",
    "```"
   ]
  }
 ],
 "metadata": {
  "kernelspec": {
   "display_name": "drlnd",
   "language": "python",
   "name": "drlnd"
  },
  "language_info": {
   "codemirror_mode": {
    "name": "ipython",
    "version": 3
   },
   "file_extension": ".py",
   "mimetype": "text/x-python",
   "name": "python",
   "nbconvert_exporter": "python",
   "pygments_lexer": "ipython3",
   "version": "3.6.7"
  }
 },
 "nbformat": 4,
 "nbformat_minor": 2
}
